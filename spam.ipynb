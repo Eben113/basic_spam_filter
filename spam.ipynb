{
 "cells": [
  {
   "cell_type": "code",
   "execution_count": 3,
   "id": "e13ba4d9",
   "metadata": {},
   "outputs": [],
   "source": [
    "import numpy as np\n",
    "import pandas as pd\n",
    "import tarfile"
   ]
  },
  {
   "cell_type": "code",
   "execution_count": 4,
   "id": "76216b1d",
   "metadata": {},
   "outputs": [],
   "source": [
    "spam_zip = tarfile.open('datasets/spam/spam.bz2')\n",
    "easy_ham_zip = tarfile.open('datasets/spam/easy_ham.bz2')"
   ]
  },
  {
   "cell_type": "code",
   "execution_count": 5,
   "id": "37bbced5",
   "metadata": {
    "scrolled": true
   },
   "outputs": [],
   "source": [
    "iter0 = 0\n",
    "iter1 = 0\n",
    "labels = []\n",
    "for folder in [easy_ham_zip, spam_zip]:\n",
    "    mailbag = list(folder)[1:]\n",
    "    for member in mailbag:\n",
    "        member.name = 'mail_'+ str(iter0) +'.txt'\n",
    "        iter0 += 1\n",
    "        folder.extract(member, path = 'datasets/spam/spam_ham')\n",
    "        labels.append(iter1)\n",
    "    iter1 += 1"
   ]
  },
  {
   "cell_type": "code",
   "execution_count": 6,
   "id": "5af44475",
   "metadata": {
    "scrolled": true
   },
   "outputs": [],
   "source": [
    "def turn_to_string(id):\n",
    "    a = list(open('datasets/spam/spam_ham/mail_'+ str(id) + '.txt', 'r', errors = 'ignore'))\n",
    "    mail_str = ''\n",
    "    for line in a:\n",
    "        if 'Subject:' in line:\n",
    "            topic_ind = a.index(line)\n",
    "        else:\n",
    "            topic_ind = 0\n",
    "    for line in a[topic_ind:]:\n",
    "        for char in line.split(' '):\n",
    "            if char.isalpha() == True:\n",
    "                mail_str += char + ' '\n",
    "    return(mail_str)"
   ]
  },
  {
   "cell_type": "code",
   "execution_count": 7,
   "id": "5062d1e6",
   "metadata": {},
   "outputs": [],
   "source": [
    "def generate_word_list(doc):\n",
    "    word_set = set()\n",
    "    for mail in doc:\n",
    "        for word in mail.split(' '):\n",
    "            word_set.add(word)\n",
    "    return(list(word_set))"
   ]
  },
  {
   "cell_type": "code",
   "execution_count": 8,
   "id": "38f95f28",
   "metadata": {},
   "outputs": [],
   "source": [
    "def tokenize(word_list):\n",
    "    token_table = {}\n",
    "    iter0 = 0\n",
    "    for i in word_list[1:]:\n",
    "        token_table[i] = iter0\n",
    "        iter0 += 1\n",
    "    return(token_table)"
   ]
  },
  {
   "cell_type": "code",
   "execution_count": 9,
   "id": "dc9378d5",
   "metadata": {},
   "outputs": [],
   "source": [
    "def gen_embedded_matr(table, str_list):\n",
    "    ref = np.eye(len(table))\n",
    "    embedded_list = []\n",
    "    for string in str_list:\n",
    "        entry = np.zeros((1, len(table)))\n",
    "        for word in set(string.split(' ')):\n",
    "            if word in table.keys():\n",
    "                entry += ref[table[word]]\n",
    "        embedded_list.append(entry)\n",
    "    return(np.array(embedded_list))"
   ]
  },
  {
   "cell_type": "code",
   "execution_count": 10,
   "id": "ab6769e5",
   "metadata": {},
   "outputs": [],
   "source": [
    "str_list = []\n",
    "for i in range(0, len(labels)):\n",
    "    str_list.append(turn_to_string(i))"
   ]
  },
  {
   "cell_type": "code",
   "execution_count": 11,
   "id": "2ce034d1",
   "metadata": {},
   "outputs": [],
   "source": [
    "str_array = np.array(str_list)"
   ]
  },
  {
   "cell_type": "code",
   "execution_count": 12,
   "id": "838e0a07",
   "metadata": {},
   "outputs": [],
   "source": [
    "word_list = generate_word_list(str_array)\n"
   ]
  },
  {
   "cell_type": "code",
   "execution_count": 13,
   "id": "d267bf54",
   "metadata": {},
   "outputs": [],
   "source": [
    "tokens = tokenize(word_list)"
   ]
  },
  {
   "cell_type": "code",
   "execution_count": 14,
   "id": "f2a48e9b",
   "metadata": {},
   "outputs": [],
   "source": [
    "embed = gen_embedded_matr(tokens, str_list)"
   ]
  },
  {
   "cell_type": "code",
   "execution_count": 15,
   "id": "68be4653",
   "metadata": {},
   "outputs": [],
   "source": [
    "embed.shape = (3052, 26835)"
   ]
  },
  {
   "cell_type": "code",
   "execution_count": 31,
   "id": "618b10a3",
   "metadata": {},
   "outputs": [
    {
     "data": {
      "text/plain": [
       "True"
      ]
     },
     "execution_count": 31,
     "metadata": {},
     "output_type": "execute_result"
    }
   ],
   "source": [
    "len(labels) == D_frame.shape[0]"
   ]
  },
  {
   "cell_type": "code",
   "execution_count": 25,
   "id": "9b7ee585",
   "metadata": {},
   "outputs": [],
   "source": [
    "D_frame = pd.DataFrame(embed)"
   ]
  },
  {
   "cell_type": "code",
   "execution_count": 32,
   "id": "79e1a885",
   "metadata": {},
   "outputs": [],
   "source": [
    "D_frame['label'] = labels"
   ]
  },
  {
   "cell_type": "code",
   "execution_count": 73,
   "id": "477f0579",
   "metadata": {},
   "outputs": [],
   "source": [
    "from sklearn.model_selection import train_test_split\n",
    "train, test =  train_test_split(D_frame, test_size = 0.2, stratify = D_frame['label'], random_state = 41)"
   ]
  },
  {
   "cell_type": "code",
   "execution_count": 74,
   "id": "7cc7a780",
   "metadata": {},
   "outputs": [],
   "source": [
    "y_train = train['label']"
   ]
  },
  {
   "cell_type": "code",
   "execution_count": 75,
   "id": "d6e99d00",
   "metadata": {},
   "outputs": [],
   "source": [
    "X_train = train.drop('label', axis =1)"
   ]
  },
  {
   "cell_type": "code",
   "execution_count": 76,
   "id": "7ca5ad28",
   "metadata": {},
   "outputs": [],
   "source": [
    "X_test, y_test =  test.drop('label', axis = 1), test['label']"
   ]
  },
  {
   "cell_type": "code",
   "execution_count": 119,
   "id": "07e24df8",
   "metadata": {},
   "outputs": [
    {
     "data": {
      "text/plain": [
       "'RNC = RadiusNeighborsClassifier(radius = 10000)\\nRNC.fit(X_train, y_train)\\nRNC.predict([X_test.iloc[0]])'"
      ]
     },
     "execution_count": 119,
     "metadata": {},
     "output_type": "execute_result"
    }
   ],
   "source": [
    "\"\"\"from sklearn.neighbors import KNeighborsClassifier, RadiusNeighborsClassifier\n",
    "KNC = KNeighborsClassifier(n_neighbors = 10)\n",
    "KNC.fit(X_train, y_train)\"\"\"\n",
    "\n",
    "\n",
    "from sklearn.linear_model import SGDClassifier\n",
    "SGD = SGDClassifier(random_state = 42)\n",
    "SGD.fit(X_train,y_train)\n",
    "\n",
    "\"\"\"RNC = RadiusNeighborsClassifier(radius = 10000)\n",
    "RNC.fit(X_train, y_train)\n",
    "RNC.predict([X_test.iloc[0]])\"\"\""
   ]
  },
  {
   "cell_type": "code",
   "execution_count": 120,
   "id": "b654ad7a",
   "metadata": {},
   "outputs": [
    {
     "data": {
      "text/plain": [
       "array([1, 0, 1, 0, 0, 0, 0, 0, 0, 0, 0, 0, 0, 0, 1, 0, 0, 0, 0, 0, 0, 0,\n",
       "       0, 1, 0, 0, 0, 0, 0, 0, 0, 0, 0, 0, 0, 0, 0, 0, 0, 0, 0, 0, 0, 0,\n",
       "       0, 0, 0, 0, 0, 0, 0, 1, 0, 0, 0, 0, 0, 0, 0, 0, 0, 0, 0, 0, 0, 0,\n",
       "       1, 1, 0, 0, 0, 0, 0, 0, 0, 0, 0, 0, 0, 0, 0, 0, 0, 0, 1, 0, 0, 0,\n",
       "       0, 0, 1, 0, 0, 0, 1, 0, 0, 1, 0, 0, 0, 0, 1, 1, 0, 1, 0, 0, 1, 0,\n",
       "       0, 0, 0, 0, 0, 0, 0, 0, 0, 0, 0, 0, 0, 0, 0, 1, 1, 0, 0, 1, 0, 0,\n",
       "       1, 0, 0, 0, 0, 1, 0, 0, 0, 0, 0, 0, 0, 0, 0, 0, 0, 0, 0, 1, 0, 0,\n",
       "       0, 1, 0, 0, 0, 0, 0, 0, 0, 1, 0, 0, 0, 0, 0, 0, 1, 0, 0, 1, 0, 1,\n",
       "       0, 0, 1, 0, 0, 0, 0, 0, 0, 0, 0, 0, 0, 0, 0, 0, 0, 0, 1, 0, 1, 0,\n",
       "       0, 0, 0, 0, 0, 0, 0, 0, 1, 0, 0, 0, 0, 0, 0, 0, 0, 0, 0, 0, 0, 0,\n",
       "       0, 0, 0, 0, 0, 0, 0, 0, 0, 0, 0, 0, 1, 0, 0, 0, 1, 1, 0, 0, 1, 0,\n",
       "       0, 0, 0, 0, 0, 0, 1, 0, 0, 0, 1, 0, 0, 1, 1, 0, 0, 0, 0, 0, 0, 0,\n",
       "       0, 0, 0, 1, 0, 0, 0, 1, 0, 1, 0, 0, 0, 0, 1, 0, 0, 0, 0, 0, 0, 1,\n",
       "       0, 1, 0, 0, 0, 0, 0, 0, 0, 0, 1, 0, 0, 0, 0, 1, 0, 0, 0, 0, 0, 0,\n",
       "       0, 0, 0, 0, 0, 0, 1, 0, 0, 1, 0, 0, 0, 0, 0, 0, 1, 0, 0, 0, 0, 0,\n",
       "       0, 0, 1, 0, 0, 0, 0, 0, 1, 0, 0, 0, 0, 1, 0, 0, 0, 0, 0, 0, 0, 1,\n",
       "       0, 0, 1, 0, 0, 0, 1, 0, 0, 0, 1, 0, 0, 0, 0, 0, 0, 0, 0, 0, 0, 0,\n",
       "       0, 0, 0, 0, 0, 0, 0, 0, 0, 0, 0, 0, 1, 0, 0, 1, 0, 1, 0, 0, 0, 0,\n",
       "       0, 0, 0, 0, 1, 0, 0, 0, 0, 0, 0, 0, 0, 0, 0, 0, 0, 0, 1, 1, 0, 1,\n",
       "       1, 0, 0, 0, 0, 0, 0, 0, 0, 0, 0, 0, 0, 1, 1, 0, 0, 1, 0, 0, 0, 1,\n",
       "       0, 0, 0, 0, 0, 0, 0, 0, 0, 0, 0, 0, 0, 1, 0, 0, 0, 0, 0, 1, 0, 1,\n",
       "       0, 1, 0, 0, 0, 0, 0, 0, 0, 0, 0, 0, 0, 0, 0, 0, 1, 0, 0, 0, 0, 1,\n",
       "       0, 0, 0, 0, 0, 0, 0, 1, 0, 0, 0, 0, 0, 0, 0, 0, 0, 0, 0, 1, 0, 0,\n",
       "       1, 0, 0, 0, 0, 0, 0, 0, 0, 0, 1, 1, 0, 0, 0, 0, 0, 0, 0, 0, 0, 0,\n",
       "       0, 0, 1, 0, 0, 0, 0, 0, 0, 0, 0, 0, 0, 0, 0, 0, 0, 1, 1, 0, 1, 0,\n",
       "       1, 0, 0, 0, 0, 0, 0, 0, 0, 0, 0, 0, 0, 1, 0, 0, 0, 0, 0, 0, 0, 0,\n",
       "       0, 0, 0, 0, 1, 0, 0, 1, 0, 1, 0, 1, 0, 0, 1, 0, 0, 1, 0, 0, 1, 0,\n",
       "       1, 0, 0, 0, 0, 0, 0, 0, 0, 0, 0, 0, 0, 1, 0, 0, 0], dtype=int64)"
      ]
     },
     "execution_count": 120,
     "metadata": {},
     "output_type": "execute_result"
    }
   ],
   "source": [
    "SGD.predict(X_test)"
   ]
  },
  {
   "cell_type": "code",
   "execution_count": 78,
   "id": "77b942b0",
   "metadata": {},
   "outputs": [],
   "source": [
    "from sklearn.metrics import accuracy_score, precision_score, recall_score"
   ]
  },
  {
   "cell_type": "code",
   "execution_count": 132,
   "id": "4b4db366",
   "metadata": {},
   "outputs": [
    {
     "data": {
      "text/plain": [
       "array([0.96296296, 1.        , 0.975     , 0.925     , 0.95      ])"
      ]
     },
     "execution_count": 132,
     "metadata": {},
     "output_type": "execute_result"
    }
   ],
   "source": [
    "from sklearn.model_selection import cross_val_score\n",
    "cross_val_score(SGD, X_train, y_train, cv = 5, scoring = 'recall')"
   ]
  },
  {
   "cell_type": "code",
   "execution_count": 130,
   "id": "cf306eec",
   "metadata": {},
   "outputs": [
    {
     "data": {
      "text/plain": [
       "100"
      ]
     },
     "execution_count": 130,
     "metadata": {},
     "output_type": "execute_result"
    }
   ],
   "source": [
    "len(y_test[y_test == 1])"
   ]
  }
 ],
 "metadata": {
  "kernelspec": {
   "display_name": "Python 3 (ipykernel)",
   "language": "python",
   "name": "python3"
  },
  "language_info": {
   "codemirror_mode": {
    "name": "ipython",
    "version": 3
   },
   "file_extension": ".py",
   "mimetype": "text/x-python",
   "name": "python",
   "nbconvert_exporter": "python",
   "pygments_lexer": "ipython3",
   "version": "3.11.4"
  }
 },
 "nbformat": 4,
 "nbformat_minor": 5
}
